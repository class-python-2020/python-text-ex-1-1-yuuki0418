{
 "metadata": {
  "language_info": {
   "codemirror_mode": {
    "name": "ipython",
    "version": 3
   },
   "file_extension": ".py",
   "mimetype": "text/x-python",
   "name": "python",
   "nbconvert_exporter": "python",
   "pygments_lexer": "ipython3",
   "version": "3.8.2-final"
  },
  "orig_nbformat": 2,
  "kernelspec": {
   "name": "python38232bit2126fec606464cb6b3a12a11ef24334b",
   "display_name": "Python 3.8.2 32-bit"
  }
 },
 "nbformat": 4,
 "nbformat_minor": 2,
 "cells": [
  {
   "cell_type": "code",
   "execution_count": 1,
   "metadata": {},
   "outputs": [],
   "source": [
    "def outer(a, b):\n",
    "    print('outer function (a, b) = ({}, {})'.format(a, b))\n",
    "    def inner(c, b):\n",
    "        print('inner function (c, b) = ({}, {})'.format(c,b))\n",
    "        return c * b\n",
    "    return inner(a, b)\n"
   ]
  },
  {
   "cell_type": "code",
   "execution_count": 2,
   "metadata": {
    "tags": []
   },
   "outputs": [
    {
     "output_type": "stream",
     "name": "stdout",
     "text": "outer function (a, b) = (4, 7)\ninner function (c, b) = (4, 7)\n28\n"
    }
   ],
   "source": [
    "a = outer(4, 7)\n",
    "print(a)"
   ]
  },
  {
   "cell_type": "code",
   "execution_count": 3,
   "metadata": {},
   "outputs": [
    {
     "output_type": "execute_result",
     "data": {
      "text/plain": "\"We are the knights who say: 'Ni!\""
     },
     "metadata": {},
     "execution_count": 3
    }
   ],
   "source": [
    "def knights(saying):\n",
    "    def inner(quote):\n",
    "        return \"We are the knights who say: '%s\" % quote\n",
    "    return inner(saying)\n",
    "\n",
    "knights('Ni!')"
   ]
  },
  {
   "cell_type": "code",
   "execution_count": 6,
   "metadata": {},
   "outputs": [],
   "source": [
    "def make_circle_area_func(pi = 3.14):\n",
    "\n",
    "    def circle_area(radius):\n",
    "\n",
    "        return radius * radius * pi\n",
    "    \n",
    "    return circle_area\n",
    "\n",
    "circle_area_default = make_circle_area_func()\n",
    "circle_area_precise = make_circle_area_func(pi = 3.1415926535)\n",
    "\n"
   ]
  },
  {
   "cell_type": "code",
   "execution_count": 7,
   "metadata": {},
   "outputs": [
    {
     "output_type": "execute_result",
     "data": {
      "text/plain": "(function, function)"
     },
     "metadata": {},
     "execution_count": 7
    }
   ],
   "source": [
    "type(circle_area_default), type(circle_area_precise)"
   ]
  },
  {
   "cell_type": "code",
   "execution_count": 1,
   "metadata": {},
   "outputs": [
    {
     "output_type": "error",
     "ename": "NameError",
     "evalue": "name 'circle_area_default' is not defined",
     "traceback": [
      "\u001b[1;31m---------------------------------------------------------------------------\u001b[0m",
      "\u001b[1;31mNameError\u001b[0m                                 Traceback (most recent call last)",
      "\u001b[1;32m<ipython-input-1-88e6f0df0aa7>\u001b[0m in \u001b[0;36m<module>\u001b[1;34m\u001b[0m\n\u001b[1;32m----> 1\u001b[1;33m \u001b[0mprint\u001b[0m\u001b[1;33m(\u001b[0m\u001b[0mcircle_area_default\u001b[0m\u001b[1;33m(\u001b[0m\u001b[1;36m2\u001b[0m\u001b[1;33m)\u001b[0m\u001b[1;33m)\u001b[0m\u001b[1;33m\u001b[0m\u001b[1;33m\u001b[0m\u001b[0m\n\u001b[0m\u001b[0;32m      2\u001b[0m \u001b[0mprint\u001b[0m\u001b[1;33m(\u001b[0m\u001b[0mcircle_area_precise\u001b[0m\u001b[1;33m(\u001b[0m\u001b[1;36m2\u001b[0m\u001b[1;33m)\u001b[0m\u001b[1;33m)\u001b[0m\u001b[1;33m\u001b[0m\u001b[1;33m\u001b[0m\u001b[0m\n",
      "\u001b[1;31mNameError\u001b[0m: name 'circle_area_default' is not defined"
     ]
    }
   ],
   "source": [
    "print(circle_area_default(2))\n",
    "print(circle_area_precise(2))"
   ]
  },
  {
   "cell_type": "code",
   "execution_count": 2,
   "metadata": {
    "tags": []
   },
   "outputs": [
    {
     "output_type": "stream",
     "name": "stdout",
     "text": "1\n2\n3\n"
    }
   ],
   "source": [
    "def makecounter():\n",
    "\n",
    "    n = 0\n",
    "    def count():\n",
    "        nonlocal n\n",
    "        n += 1\n",
    "        return n\n",
    "    return count\n",
    "\n",
    "counter = makecounter()\n",
    "print(counter())\n",
    "print(counter())\n",
    "print(counter())"
   ]
  },
  {
   "cell_type": "code",
   "execution_count": 3,
   "metadata": {
    "tags": []
   },
   "outputs": [
    {
     "output_type": "stream",
     "name": "stdout",
     "text": "==== flag: Red\nSelaction is 0 which may be the default\n===\n==== flag: Blue\nYour coise is 1\n====\n"
    }
   ],
   "source": [
    "def show_message(num=0):\n",
    "\n",
    "    if num == 0:\n",
    "        flag = \"Red\"\n",
    "        print(\"==== flag:\", flag)\n",
    "        print(\"Selaction is\", num, \"which may be the default\")\n",
    "        print(\"===\")\n",
    "    else:\n",
    "        flag = \"Blue\"\n",
    "        print(\"==== flag:\", flag)\n",
    "        print(\"Your coise is\", num)\n",
    "        print(\"====\")\n",
    "\n",
    "show_message(0)\n",
    "show_message(1)"
   ]
  },
  {
   "cell_type": "code",
   "execution_count": 4,
   "metadata": {
    "tags": []
   },
   "outputs": [
    {
     "output_type": "stream",
     "name": "stdout",
     "text": "('==== flag:', 'Red')\nSelection is which may be the default\n====\n('==== flag:', 'Blue')\nYour choise is 1\n====\n"
    }
   ],
   "source": [
    "def show_message(num=0):\n",
    "\n",
    "    def decolate(func):\n",
    "        if num == 0:\n",
    "            flag = \"Red\"\n",
    "        else:\n",
    "            flag = \"Blue\"\n",
    "        \n",
    "        print((\"==== flag:\", flag))\n",
    "        func()\n",
    "        print(\"====\")\n",
    "    \n",
    "    def show_selection(num=num):\n",
    "        if num == 0:\n",
    "            print(\"Selection is\", \"which may be the default\")\n",
    "        else:\n",
    "            print(\"Your choise is\", num)\n",
    "\n",
    "    decolate(show_selection)\n",
    "\n",
    "show_message(0)\n",
    "show_message(1)\n",
    "\n",
    "    \n"
   ]
  },
  {
   "cell_type": "code",
   "execution_count": 5,
   "metadata": {},
   "outputs": [],
   "source": [
    "def make_addfunc():\n",
    "    def add(x,y):\n",
    "        return x + y\n",
    "    return add"
   ]
  },
  {
   "cell_type": "code",
   "execution_count": 6,
   "metadata": {
    "tags": []
   },
   "outputs": [
    {
     "output_type": "stream",
     "name": "stdout",
     "text": "11\n"
    }
   ],
   "source": [
    "adder = make_addfunc()\n",
    "answer = adder(1, 10)\n",
    "print(answer)"
   ]
  },
  {
   "cell_type": "code",
   "execution_count": 7,
   "metadata": {},
   "outputs": [],
   "source": [
    "def make_addfunc():\n",
    "    print('足し算する関数を作成')\n",
    "    def add(x, y):\n",
    "        print('{} + {} = {}'.format(x, y, x + y))\n",
    "        return x + y\n",
    "    return add"
   ]
  },
  {
   "cell_type": "code",
   "execution_count": 8,
   "metadata": {
    "tags": []
   },
   "outputs": [
    {
     "output_type": "stream",
     "name": "stdout",
     "text": "足し算する関数を作成\n"
    }
   ],
   "source": [
    "adder = make_addfunc()"
   ]
  },
  {
   "cell_type": "code",
   "execution_count": 9,
   "metadata": {
    "tags": []
   },
   "outputs": [
    {
     "output_type": "stream",
     "name": "stdout",
     "text": "1 + 10 = 11\n"
    }
   ],
   "source": [
    "answer = adder(1, 10)"
   ]
  },
  {
   "cell_type": "code",
   "execution_count": 10,
   "metadata": {
    "tags": []
   },
   "outputs": [
    {
     "output_type": "stream",
     "name": "stdout",
     "text": "11\n"
    }
   ],
   "source": [
    "print(answer)"
   ]
  },
  {
   "cell_type": "code",
   "execution_count": null,
   "metadata": {},
   "outputs": [],
   "source": []
  }
 ]
}